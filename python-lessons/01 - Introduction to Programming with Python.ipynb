{
 "cells": [
  {
   "cell_type": "markdown",
   "metadata": {},
   "source": [
    "# Introduction to Programming with Python\n",
    "---"
   ]
  },
  {
   "cell_type": "markdown",
   "metadata": {
    "collapsed": true
   },
   "source": [
    "## What is Python and why would I use it?"
   ]
  },
  {
   "cell_type": "markdown",
   "metadata": {
    "collapsed": true
   },
   "source": [
    "Python is a programming language.  \n",
    "\n",
    "A programming language is a way of writing commands so that an interpreter or compiler can turn them into machine instructions.\n",
    "\n",
    "We like using Python in Software Carpentry Workshops for lots of reasons\n",
    "\n",
    "    - Widely used in science\n",
    "    - It's easy to read and write\n",
    "    - Huge supporting community - lots of ways to learn and get help  \n",
    "    - This Jupyter Notebook.  Not a lot of languages have this kind of thing (name comes from Julia, Python, and R)."
   ]
  },
  {
   "cell_type": "markdown",
   "metadata": {
    "collapsed": true
   },
   "source": [
    "Even if you aren't using Python in your work, you can use Python to learn the fundamentals of programming that will apply accross languages"
   ]
  },
  {
   "cell_type": "markdown",
   "metadata": {},
   "source": [
    "### Characters\n",
    "\n",
    "Python uses certain characters as part of its syntax. Here is what they are called:\n",
    "\n",
    "* `[` : left `square bracket`\n",
    "* `]` : right `square bracket`\n",
    "* `(` : left `paren` (parentheses)\n",
    "* `)` : right `paren`\n",
    "* `{` : left `curly brace`\n",
    "* `}` : right `curly brace`\n",
    "* `<` : left `angle bracket`\n",
    "* `>` : right `angle bracket`\n",
    "* `-` `dash` (not hyphen. Minus only when used in an equation or formula)\n",
    "* `\"` : `double quote`\n",
    "* `'` : `single quote` (apostrophe)"
   ]
  },
  {
   "cell_type": "markdown",
   "metadata": {
    "collapsed": true
   },
   "source": [
    "# What are the fundamentals?"
   ]
  },
  {
   "cell_type": "markdown",
   "metadata": {
    "collapsed": true
   },
   "source": [
    "## VARIABLES\n",
    "\n",
    " * We store values inside variables.  \n",
    " * We can refer to variables in other parts of our programs.\n",
    " * In Python, the variable is created when a value is assigned to it.\n",
    " * Values are assigned to variable names using the equals sign (=).  \n",
    " * A variable can hold two types of things.  Basic data types and objects(ways to structure data and code).\n",
    " * In Python, all variables are objects.\n",
    " \n",
    "Some data types you will find in almost every language include:\n",
    "\n",
    "    - Strings (characters, words, sentences or paragraphs): 'a' 'b' 'c' 'abc' '0' '3' ';' '?' \n",
    "    - Integers (whole numbers): 1 2 3 100 10000 -100\n",
    "    - Floating point or Float (decimals): 10.0 56.9 -3.765\n",
    "    - Booleans: True, False\n",
    "    \n",
    "Here, Python assigns an age to a variable `age` and a name in quotation marks to a variable `first_name`."
   ]
  },
  {
   "cell_type": "code",
   "execution_count": 2,
   "metadata": {
    "scrolled": false
   },
   "outputs": [],
   "source": [
    "age = 42\n",
    "first_name = \"Ahmed\""
   ]
  },
  {
   "cell_type": "markdown",
   "metadata": {},
   "source": [
    "#### Of Note:\n",
    "   Variable names:\n",
    "    * Cannot start with a digit\n",
    "    * Cannot contain spaces, quotation marks, or other punctuation"
   ]
  },
  {
   "cell_type": "markdown",
   "metadata": {},
   "source": [
    "You can display what is inside `age` by using the print command \n",
    "`print()`\n",
    "with the value placed inside the parenthesis"
   ]
  },
  {
   "cell_type": "code",
   "execution_count": 4,
   "metadata": {},
   "outputs": [
    {
     "name": "stdout",
     "output_type": "stream",
     "text": [
      "42\n",
      "Ahmed\n"
     ]
    }
   ],
   "source": [
    "print(age)\n",
    "print(first_name)"
   ]
  },
  {
   "cell_type": "markdown",
   "metadata": {},
   "source": [
    "---\n",
    "## EXERCISE:\n",
    "1. Create two new variables called age and first_name with your own age and name\n",
    "1. Print each variable out to dispaly it's value\n"
   ]
  },
  {
   "cell_type": "code",
   "execution_count": 16,
   "metadata": {},
   "outputs": [
    {
     "name": "stdout",
     "output_type": "stream",
     "text": [
      "99\n",
      "sabrina\n",
      "99 sabrina\n"
     ]
    }
   ],
   "source": [
    "age = 99\n",
    "name = \"sabrina\"\n",
    "print(age)\n",
    "print(name)\n",
    "print(age,name)"
   ]
  },
  {
   "cell_type": "markdown",
   "metadata": {},
   "source": [
    "You can also combine values in a single print command by separating them with commas"
   ]
  },
  {
   "cell_type": "code",
   "execution_count": 24,
   "metadata": {},
   "outputs": [
    {
     "name": "stdout",
     "output_type": "stream",
     "text": [
      "sabrina is 99 years old\n",
      "sabrina is 99 years old\n"
     ]
    }
   ],
   "source": [
    "# Insert your variable values into the print statement below\n",
    "# print(, 'is', , 'years old')\n",
    "print('sabrina','is',99,'years old')\n",
    "\n",
    "# Can do also by inserting variable names and python has autocomplete function with tab\n",
    "# Shift+enter will execute the cell you are in, rather than clicking on run with mouse\n",
    "print(name, 'is', age, 'years old')"
   ]
  },
  {
   "cell_type": "markdown",
   "metadata": {},
   "source": [
    "* `print` automatically puts a single space between items to separate them.\n",
    "* And wraps around to a new line at the end."
   ]
  },
  {
   "cell_type": "markdown",
   "metadata": {},
   "source": [
    "### Using Python built-in type() function\n",
    "\n",
    "If you are not sure of what your variables' types are, you can call a python function called type() in the same manner as you used print() function.\n",
    "Python is an object-oriented language, so any defined variable has a type.  Default common types are str, int, float, list, and tuple.  We will cover list and tuple later"
   ]
  },
  {
   "cell_type": "code",
   "execution_count": 19,
   "metadata": {},
   "outputs": [
    {
     "name": "stdout",
     "output_type": "stream",
     "text": [
      "<class 'int'>\n",
      "<class 'str'>\n"
     ]
    }
   ],
   "source": [
    "print(type(age))\n",
    "print(type(first_name))"
   ]
  },
  {
   "cell_type": "markdown",
   "metadata": {},
   "source": [
    "### STRING TYPE\n",
    "One or more characters strung together and enclosed in quotes (single or double): \"Hello World!\""
   ]
  },
  {
   "cell_type": "code",
   "execution_count": 20,
   "metadata": {},
   "outputs": [
    {
     "name": "stdout",
     "output_type": "stream",
     "text": [
      "The greeting is: Hello World!\n"
     ]
    }
   ],
   "source": [
    "greeting = \"Hello World!\"\n",
    "print (\"The greeting is:\", greeting)"
   ]
  },
  {
   "cell_type": "code",
   "execution_count": 21,
   "metadata": {
    "scrolled": true
   },
   "outputs": [
    {
     "name": "stdout",
     "output_type": "stream",
     "text": [
      "The greeting is: Hello World!\n"
     ]
    }
   ],
   "source": [
    "greeting = 'Hello World!'\n",
    "print ('The greeting is:', greeting)"
   ]
  },
  {
   "cell_type": "markdown",
   "metadata": {},
   "source": [
    "#### Need to use single quotes in your string?\n",
    "Use double quotes to make your string."
   ]
  },
  {
   "cell_type": "code",
   "execution_count": 25,
   "metadata": {},
   "outputs": [
    {
     "name": "stdout",
     "output_type": "stream",
     "text": [
      "The greeting is: Hello 'World'!\n"
     ]
    }
   ],
   "source": [
    "greeting = \"Hello 'World'!\"\n",
    "print (\"The greeting is:\", greeting)"
   ]
  },
  {
   "cell_type": "markdown",
   "metadata": {},
   "source": [
    "#### Need to use both?"
   ]
  },
  {
   "cell_type": "code",
   "execution_count": 26,
   "metadata": {},
   "outputs": [
    {
     "name": "stdout",
     "output_type": "stream",
     "text": [
      "The greeting is: 'Hello' \"World\"!\n"
     ]
    }
   ],
   "source": [
    "greeting1 = \"'Hello'\"\n",
    "greeting2 = '\"World\"!'\n",
    "print (\"The greeting is:\", greeting1, greeting2)"
   ]
  },
  {
   "cell_type": "markdown",
   "metadata": {},
   "source": [
    "#### Concatenation"
   ]
  },
  {
   "cell_type": "code",
   "execution_count": 27,
   "metadata": {},
   "outputs": [
    {
     "name": "stdout",
     "output_type": "stream",
     "text": [
      "wildcats\n"
     ]
    }
   ],
   "source": [
    "bear = \"wild\"\n",
    "down = \"cats\"\n",
    "print (bear+down)"
   ]
  },
  {
   "cell_type": "markdown",
   "metadata": {},
   "source": [
    "---\n",
    "## EtherPad\n",
    "Why isn't `greeting` enclosed in quotes in the statements above?\n",
    "\n",
    "Post your answers to the EtherPad, or vote for existing answers\n",
    "\n",
    "---"
   ]
  },
  {
   "cell_type": "markdown",
   "metadata": {},
   "source": [
    "#### Use an index to get a single character from a string.\n",
    " * The characters (individual letters, numbers, and so on) in a string are ordered.\n",
    " * For example, the string ‘AB’ is not the same as ‘BA’. Because of this ordering, we can treat the string as a list of characters.\n",
    " * Each position in the string (first, second, etc.) is given a number. This number is called an index or sometimes a subscript.\n",
    " * Indices are numbered from 0.  \n",
    " * Use the position’s index in square brackets to get the character at that position."
   ]
  },
  {
   "cell_type": "code",
   "execution_count": 28,
   "metadata": {},
   "outputs": [
    {
     "name": "stdout",
     "output_type": "stream",
     "text": [
      "h i\n"
     ]
    }
   ],
   "source": [
    "#  String :        H e l i u m  \n",
    "#  Index Location: 0 1 2 3 4 5\n",
    "\n",
    "atom_name = 'helium'\n",
    "print(atom_name[0], atom_name[3])"
   ]
  },
  {
   "cell_type": "markdown",
   "metadata": {},
   "source": [
    "### NUMERIC TYPES\n",
    "* Numbers are stored as numbers (no quotes) and are either integers (whole) or real numbers (decimal).  \n",
    "* In programming, numbers with decimal precision are called floating-point, or float.\n",
    "* Floats use more processing than integers so use them wisely!\n",
    "* Floats and ints come in various sizes but Python switches between them transparently."
   ]
  },
  {
   "cell_type": "code",
   "execution_count": 32,
   "metadata": {},
   "outputs": [
    {
     "name": "stdout",
     "output_type": "stream",
     "text": [
      "My numeric value: 10\n",
      "Type: <class 'int'>\n",
      "My numeric value 2: 10.99998\n",
      "Type: <class 'float'>\n"
     ]
    }
   ],
   "source": [
    "my_integer = 10\n",
    "my_float = 10.99998\n",
    "my_value = my_integer\n",
    "my_value2 = my_float\n",
    "\n",
    "print(\"My numeric value:\", my_value)\n",
    "print(\"Type:\", type(my_value))\n",
    "\n",
    "print(\"My numeric value 2:\", my_value2)\n",
    "print(\"Type:\", type(my_value2))"
   ]
  },
  {
   "cell_type": "markdown",
   "metadata": {},
   "source": [
    "### BOOLEAN TYPE\n",
    "* Boolean values are binary, meaning they can only either true or false.\n",
    "* In python True and False (no quotes) are boolean values"
   ]
  },
  {
   "cell_type": "code",
   "execution_count": 29,
   "metadata": {},
   "outputs": [
    {
     "name": "stdout",
     "output_type": "stream",
     "text": [
      "My true boolean variable: True\n"
     ]
    }
   ],
   "source": [
    "is_true = True\n",
    "is_false = False\n",
    "\n",
    "print(\"My true boolean variable:\", is_true)"
   ]
  },
  {
   "cell_type": "markdown",
   "metadata": {},
   "source": [
    "---\n",
    "## EtherPad\n",
    "What data type is `'1024'`?\n",
    "<ol style=\"list-style-type:lower-alpha\">\n",
    "  <li>String</li>\n",
    "  <li>Int</li>\n",
    "  <li>Float</li>\n",
    "  <li>Boolean</li>\n",
    "</ol> \n",
    "\n",
    "Post your answers to the EtherPad, or vote for existing answers\n",
    "\n",
    "---"
   ]
  },
  {
   "cell_type": "markdown",
   "metadata": {},
   "source": [
    "## Variables can be used in calculations.\n",
    "\n",
    "*   We can use variables in calculations just as if they were values.\n",
    "    *   Remember, we assigned 42 to `age` a few lines ago."
   ]
  },
  {
   "cell_type": "code",
   "execution_count": 33,
   "metadata": {
    "scrolled": true
   },
   "outputs": [
    {
     "name": "stdout",
     "output_type": "stream",
     "text": [
      "Age in three years: 102\n"
     ]
    }
   ],
   "source": [
    "age = age + 3\n",
    "print('Age in three years:', age)"
   ]
  },
  {
   "cell_type": "markdown",
   "metadata": {},
   "source": [
    "* This now sets our age value 45. We can also add strings together.  When you add strings it's called \"concatenating\""
   ]
  },
  {
   "cell_type": "code",
   "execution_count": 38,
   "metadata": {},
   "outputs": [
    {
     "name": "stdout",
     "output_type": "stream",
     "text": [
      "Sonoran Desert\n"
     ]
    }
   ],
   "source": [
    "name = \"Sonoran\"\n",
    "full_name = name + \" Desert\"\n",
    "print(full_name)"
   ]
  },
  {
   "cell_type": "markdown",
   "metadata": {},
   "source": [
    "* Notice how I included a space in the quotes before \"Desert\". If we hadn't, we would have had \"SonoranDesert\"\n",
    "* Can we subtract, multiply, or divide strings?"
   ]
  },
  {
   "cell_type": "code",
   "execution_count": 40,
   "metadata": {},
   "outputs": [
    {
     "name": "stdout",
     "output_type": "stream",
     "text": [
      "Paperino Cipcip\n",
      "Vegeta Prince of all Saiyans\n"
     ]
    }
   ],
   "source": [
    "#Create a new variable called last_name with your own last name.\n",
    "#Create a second new variable called full_name that is a combination of your first and last name\n",
    "last_name = 'Cipcip'\n",
    "full_name = 'Paperino ' + last_name\n",
    "print(full_name)\n",
    "\n",
    "last_name = ' Prince of all Saiyans'\n",
    "first_name = 'Vegeta'\n",
    "full_name = first_name + last_name\n",
    "print(full_name)"
   ]
  },
  {
   "cell_type": "markdown",
   "metadata": {
    "collapsed": true
   },
   "source": [
    "## DATA STRUCTURES\n",
    "Python has many objects that can be used to structure data including:\n",
    "\n",
    "    - Lists\n",
    "    - Tuples\n",
    "    - Sets\n",
    "    - Dictionaries    "
   ]
  },
  {
   "cell_type": "markdown",
   "metadata": {},
   "source": [
    "### LISTS\n",
    "Lists are collections of values held together in brackets: "
   ]
  },
  {
   "cell_type": "code",
   "execution_count": 41,
   "metadata": {},
   "outputs": [
    {
     "name": "stdout",
     "output_type": "stream",
     "text": [
      "['a', 'b', 'c']\n"
     ]
    }
   ],
   "source": [
    "list_of_characters  = ['a', 'b', 'c'] \n",
    "print (list_of_characters)"
   ]
  },
  {
   "cell_type": "code",
   "execution_count": 42,
   "metadata": {},
   "outputs": [
    {
     "name": "stdout",
     "output_type": "stream",
     "text": [
      "[1, 2, 3, 4, 5]\n"
     ]
    }
   ],
   "source": [
    "# Create a new list called list_of_numbers with four numbers in it\n",
    "list_of_numbers = [1,2,3,4,5]\n",
    "print(list_of_numbers)"
   ]
  },
  {
   "cell_type": "markdown",
   "metadata": {},
   "source": [
    "* Just like strings, we can access any value in the list by it's position in the list.\n",
    "* **IMPORTANT:** Indexes start at 0\n",
    "    ~~~\n",
    "    list:          ['a', 'b', 'c', 'd']\n",
    "    index location:  0    1    2    3\n",
    "    ~~~"
   ]
  },
  {
   "cell_type": "code",
   "execution_count": 45,
   "metadata": {},
   "outputs": [
    {
     "name": "stdout",
     "output_type": "stream",
     "text": [
      "2\n",
      "2 4\n"
     ]
    }
   ],
   "source": [
    "# Print out the second value in the list list_of_numbers\n",
    "print(list_of_numbers[1])\n",
    "\n",
    "# Print out the seconda and fourth value in the list of list_of_numbers\n",
    "print(list_of_numbers[1], list_of_numbers[3]) # cannot do + because you are combining string and int\n",
    "\n",
    "# Can you do slicing in jupyter?"
   ]
  },
  {
   "cell_type": "markdown",
   "metadata": {},
   "source": [
    "Once you have created a list you can add more items to it with the append method"
   ]
  },
  {
   "cell_type": "code",
   "execution_count": 46,
   "metadata": {},
   "outputs": [
    {
     "name": "stdout",
     "output_type": "stream",
     "text": [
      "[1, 2, 3, 4, 5, 5]\n"
     ]
    }
   ],
   "source": [
    "list_of_numbers.append(5)\n",
    "print(list_of_numbers)"
   ]
  },
  {
   "cell_type": "markdown",
   "metadata": {},
   "source": [
    "#### Aside: Sizes of data structures\n",
    "\n",
    "To determine how large (how many values/entries/elements/etc.) any Python data structure has, use the `len()` function"
   ]
  },
  {
   "cell_type": "code",
   "execution_count": 47,
   "metadata": {},
   "outputs": [
    {
     "data": {
      "text/plain": [
       "6"
      ]
     },
     "execution_count": 47,
     "metadata": {},
     "output_type": "execute_result"
    }
   ],
   "source": [
    "len(list_of_numbers) # this counts the number of elements is a list"
   ]
  },
  {
   "cell_type": "markdown",
   "metadata": {},
   "source": [
    "Note that you cannot compute the length of a numeric variable:"
   ]
  },
  {
   "cell_type": "code",
   "execution_count": null,
   "metadata": {},
   "outputs": [],
   "source": [
    " len(age) #but this does not work with integer values, but can do this with a string"
   ]
  },
  {
   "cell_type": "markdown",
   "metadata": {},
   "source": [
    "This will give an error: `TypeError: object of type 'int' has no len()`"
   ]
  },
  {
   "cell_type": "markdown",
   "metadata": {},
   "source": [
    "However, `len()` can compute the lengths of strings"
   ]
  },
  {
   "cell_type": "code",
   "execution_count": 50,
   "metadata": {},
   "outputs": [
    {
     "name": "stdout",
     "output_type": "stream",
     "text": [
      "18\n",
      "22\n",
      "Look! I'm programming.\n"
     ]
    }
   ],
   "source": [
    "print(len('this is a sentence')) # length of this is 18\n",
    "\n",
    "# You can also get the lengths of strings in a list\n",
    "list_of_strings = [\"Python is Awesome!\", \"Look! I'm programming.\", \"E = mc^2\"]\n",
    "\n",
    "# This will get the length of \"Look! I'm programming.\" which is the first value in our variable list_of_strings\n",
    "print(len(list_of_strings[1]))\n",
    "print(list_of_strings[1]) # length of this is 22"
   ]
  },
  {
   "cell_type": "markdown",
   "metadata": {},
   "source": [
    "### TUPLES\n",
    "Tuples are like a List, `cannot be changed (immutable)`.\n",
    "\n",
    "Tuples can be used to represent any collection of data. They work well for things like coordinates."
   ]
  },
  {
   "cell_type": "code",
   "execution_count": 51,
   "metadata": {},
   "outputs": [
    {
     "name": "stdout",
     "output_type": "stream",
     "text": [
      "(3, 4)\n"
     ]
    }
   ],
   "source": [
    "tuple_of_x_y_coordinates = (3, 4) # parenthesis: tuple / squared brakets: list\n",
    "print (tuple_of_x_y_coordinates)"
   ]
  },
  {
   "cell_type": "markdown",
   "metadata": {},
   "source": [
    "Tuples can have any number of values"
   ]
  },
  {
   "cell_type": "code",
   "execution_count": 52,
   "metadata": {},
   "outputs": [
    {
     "name": "stdout",
     "output_type": "stream",
     "text": [
      "(1, 7, 38, 9, 0)\n",
      "('strawberry', 'vanilla', 'chocolate')\n"
     ]
    }
   ],
   "source": [
    "coordinates = (1, 7, 38, 9, 0)\n",
    "print (coordinates)\n",
    "\n",
    "icecream_flavors = (\"strawberry\", \"vanilla\", \"chocolate\")\n",
    "print (icecream_flavors)"
   ]
  },
  {
   "cell_type": "markdown",
   "metadata": {},
   "source": [
    "... and any types of values.\n",
    "\n",
    "Once created, you `cannot add more items to a tuple` (but you can add items to a list).  If we try to append, like we did with lists, we get an error"
   ]
  },
  {
   "cell_type": "code",
   "execution_count": null,
   "metadata": {},
   "outputs": [],
   "source": [
    "icecream_flavors.append('bubblegum') # you cannot append stuff to a tuple \n",
    "\n",
    "# check difference btw linear time and constant time which illustrates the difference btw tuples and lists"
   ]
  },
  {
   "cell_type": "markdown",
   "metadata": {},
   "source": [
    "### THE DIFFERENCE BETWEEN TUPLES AND LISTS\n",
    "Lists are good for manipulating data sets.  It's easy for the computer to add, remove and sort items.  Sorted tuples are easier to search and index.  This happens because tuples reserve entire blocks of memory to make finding specific locations easier while lists use addressing and force the computer to step through the whole list.\n",
    "![array%20vs%20list.png](array%20vs%20list.png)\n",
    "Let's say you want to get to the last item.  The tuple can calculate the location because:\n",
    "\n",
    "(address)=(size of data)×(inex of the item)+(original address)\n",
    "\n",
    "This is how zero indexing works.  The computer can do the calculation and jump directly to the address.  The list would need to go through every item in the list to get there.\n",
    "\n",
    "Now lets say you wanted to remove the third item.  Removing it from the tuple requires it to be resized and coppied.  Python would even make you do this manually.  Removing the third item in the list is as simple as making the second item point to the fourth.  Python makes this as easy as calling a method on the tuple object."
   ]
  },
  {
   "cell_type": "markdown",
   "metadata": {},
   "source": [
    "### SETS"
   ]
  },
  {
   "cell_type": "markdown",
   "metadata": {},
   "source": [
    "Sets are similar to lists and tuples, but can only contain unique values and are held in braces\n",
    "\n",
    "\n",
    "For example a list could contain multiple exact values"
   ]
  },
  {
   "cell_type": "code",
   "execution_count": 53,
   "metadata": {},
   "outputs": [
    {
     "name": "stdout",
     "output_type": "stream",
     "text": [
      "my_list is ['Africa', 'Europe', 'North America', 'Africa', 'Europe', 'North America']\n",
      "my_set is {'Africa', 'Europe', 'North America'}\n"
     ]
    }
   ],
   "source": [
    "# In the gapminder data that we will use, we will have data entries for the continents\n",
    "# of each country in the dataset\n",
    "my_list = ['Africa', 'Europe', 'North America', 'Africa', 'Europe', 'North America']\n",
    "print(\"my_list is\", my_list)\n",
    "\n",
    "# A set would only allow for unique values to be held\n",
    "my_set = {'Africa', 'Europe', 'North America', 'Africa', 'Europe', 'North America'}\n",
    "print(\"my_set is\", my_set)"
   ]
  },
  {
   "cell_type": "markdown",
   "metadata": {},
   "source": [
    "Just list lists, you can append to a set using the add() function"
   ]
  },
  {
   "cell_type": "code",
   "execution_count": 54,
   "metadata": {},
   "outputs": [],
   "source": [
    "my_set.add('Asia')\n",
    "\n",
    "# Now let's try to append one that is in:\n",
    "my_set.add('Europe')"
   ]
  },
  {
   "cell_type": "markdown",
   "metadata": {},
   "source": [
    "### DICTIONARIES\n",
    "* Dictionaries are collections of things that you can lookup like in a real dictionary:\n",
    "* Dictionarys can organized into key and value pairs separated by commas (like lists) and surrounded by braces.\n",
    "   * E.g. {key1: value1, key2: value2}\n",
    "   * We call each association a \"key-value pair\".  \n",
    "   \n"
   ]
  },
  {
   "cell_type": "code",
   "execution_count": 57,
   "metadata": {},
   "outputs": [],
   "source": [
    "dictionary_of_definitions = {\"aardvark\" : \"The aardvark is a medium-sized, burrowing, nocturnal mammal native to Africa.\",\n",
    "                             \"boat\" : \"A boat is a thing that floats on water\"}"
   ]
  },
  {
   "cell_type": "markdown",
   "metadata": {},
   "source": [
    "We can find the definition of aardvark by giving the dictionary the \"key\" to the definition we want in brackets.\n",
    "\n",
    "In this case the key is the word we want to lookup"
   ]
  },
  {
   "cell_type": "code",
   "execution_count": 58,
   "metadata": {},
   "outputs": [
    {
     "name": "stdout",
     "output_type": "stream",
     "text": [
      "The definition of aardvark is: The aardvark is a medium-sized, burrowing, nocturnal mammal native to Africa.\n"
     ]
    }
   ],
   "source": [
    "print (\"The definition of aardvark is:\", dictionary_of_definitions[\"aardvark\"]) "
   ]
  },
  {
   "cell_type": "code",
   "execution_count": 59,
   "metadata": {},
   "outputs": [
    {
     "name": "stdout",
     "output_type": "stream",
     "text": [
      "The definittion of a boat is: A boat is a thing that floats on water\n"
     ]
    }
   ],
   "source": [
    "# Print out the definition of a boat\n",
    "print (\"The definition of a boat is:\", dictionary_of_definitions['boat'])"
   ]
  },
  {
   "cell_type": "markdown",
   "metadata": {},
   "source": [
    "Just like lists and sets, you can add to dictionaries by doing the following:"
   ]
  },
  {
   "cell_type": "code",
   "execution_count": 61,
   "metadata": {},
   "outputs": [
    {
     "name": "stdout",
     "output_type": "stream",
     "text": [
      "{'aardvark': 'The aardvark is a medium-sized, burrowing, nocturnal mammal native to Africa.', 'boat': 'A boat is a thing that floats on water', 'ocean': 'An ocean is a very large expanse of sea, in particular each of the main areas into which the sea is divided geographically.'}\n"
     ]
    }
   ],
   "source": [
    "# to add to a dictionary you giving value as the key and after the = you add the definition\n",
    "dictionary_of_definitions['ocean'] = \"An ocean is a very large expanse of sea, in particular each of the main areas into which the sea is divided geographically.\"\n",
    "print(dictionary_of_definitions)\n"
   ]
  },
  {
   "cell_type": "markdown",
   "metadata": {},
   "source": [
    "---\n",
    "## EtherPad\n",
    "Which one of these is not a valid entry in a dictionary?\n",
    "\n",
    "1. `\"key\"`: `\"value\"`\n",
    "2. `\"GCBHSA\"`: `\"ldksghdklfghfdlgkfdhgfldkghfgfhd\"`\n",
    "3. `\"900\"` : `\"key\"` : `\"value\"`\n",
    "4. `Books` : `10000`\n",
    "\n",
    "Post your answer to the EtherPad, or vote for an existing answer"
   ]
  },
  {
   "cell_type": "code",
   "execution_count": 65,
   "metadata": {
    "scrolled": true
   },
   "outputs": [
    {
     "name": "stdout",
     "output_type": "stream",
     "text": [
      "{'Book': 1000}\n"
     ]
    }
   ],
   "source": [
    "# on this exercise the wrong one is number 3 because a dictionary is only in the form one key: one value\n",
    "dictionary = {'Book': 1000}\n",
    "print(dictionary)\n",
    "    "
   ]
  },
  {
   "cell_type": "markdown",
   "metadata": {},
   "source": [
    "---\n",
    "## EXERCISE:\n",
    "1. Create a dictionary called `zoo` with at least three animal types with a different count for each animal.\n",
    "1. `print` out the count of the second animal in your dictionary \n",
    "\n",
    "---"
   ]
  },
  {
   "cell_type": "code",
   "execution_count": 77,
   "metadata": {},
   "outputs": [
    {
     "name": "stdout",
     "output_type": "stream",
     "text": [
      "{'aardvark': 22, 'flamingo': 6, 'panda': 2, 'gorilla': 1}\n",
      "<built-in method keys of dict object at 0x000000000554E558>\n",
      "{'giraffa': 'a giraffa is a yellow animal', 'tiger': 'a tiger is a fast animal', 'penguin': 'a penguin is a funny animal'}\n",
      "the definition of the second animal in the dictionary is a tiger is a fast animal\n"
     ]
    }
   ],
   "source": [
    "# this is the solution to this exercise\n",
    "zoo = {'aardvark' : 7, 'flamingo': 6}\n",
    "zoo['aardvark'] = 5\n",
    "zoo['panda'] = 2\n",
    "zoo['gorilla'] = 1\n",
    "zoo['aardvark'] = 22\n",
    "print(zoo)\n",
    "print(zoo.keys)\n",
    "len(zoo)\n",
    "\n",
    "# my zoo dictionary \n",
    "dictionary_of_zoo = {'giraffa': 1, 'tiger' : 2, 'penguin' : 3}\n",
    "print(dictionary_of_zoo)\n",
    "print('the value of the second animal in the dictionary is', dictionary_of_zoo['tiger'])\n",
    " \n",
    "# this is a repetition of the previous exercise\n",
    "dictionary_of_zoo = {'giraffa': 'a giraffa is a yellow animal', 'tiger' : 'a tiger is a fast animal', 'penguin' : 'a penguin is a funny animal'}\n",
    "print(dictionary_of_zoo)\n",
    "print('the definition of the second animal in the dictionary is', dictionary_of_zoo['tiger'])"
   ]
  },
  {
   "cell_type": "markdown",
   "metadata": {
    "collapsed": true
   },
   "source": [
    "## Statements\n",
    "\n",
    "OK great.  Now what can we do with all of this?  \n",
    "\n",
    "We can plug everything together with a bit of logic and python language and make a program that can do things like:\n",
    "\n",
    "* process data\n",
    "\n",
    "* parse files\n",
    "\n",
    "* data analysis"
   ]
  },
  {
   "cell_type": "markdown",
   "metadata": {},
   "source": [
    "What kind of logic are we talking about?\n",
    "\n",
    "We are talking about something called a \"logical structure\" which starts at the top (first line) and reads down the page in order\n",
    "\n",
    "In python a logical structure are often composed of statements. Statements are powerful operators that control the flow of your script. There are two main types:\n",
    "\n",
    "* conditionals (if, while)\n",
    "* loops (for)\n"
   ]
  },
  {
   "cell_type": "markdown",
   "metadata": {},
   "source": [
    "### Conditionals"
   ]
  },
  {
   "cell_type": "markdown",
   "metadata": {},
   "source": [
    "Conditionals are how we make a decision in the program.\n",
    "In python, conditional statements are called if/else statements.\n",
    "\n",
    "\n",
    "* If statement use boolean values to define flow.\n",
    "* E.g. If something is True, do this. Else, do this"
   ]
  },
  {
   "cell_type": "code",
   "execution_count": 79,
   "metadata": {},
   "outputs": [
    {
     "name": "stdout",
     "output_type": "stream",
     "text": [
      "Have a nice night.\n",
      "Have a nice day.\n",
      "Have a nice night.\n"
     ]
    }
   ],
   "source": [
    "it_is_daytime = False # this is the variable that holds the current condition of it_is_daytime which is True or False \n",
    "\n",
    "if it_is_daytime:\n",
    "    print (\"Have a nice day.\")\n",
    "else:\n",
    "    print (\"Have a nice night.\")\n",
    "    \n",
    "# before running this cell\n",
    "\n",
    "# what will happen if we change it_is_daytime to True?\n",
    "it_is_daytime = True \n",
    "if it_is_daytime:\n",
    "    print (\"Have a nice day.\")\n",
    "else:\n",
    "    print (\"Have a nice night.\")\n",
    "    \n",
    "# try with if not\n",
    "it_is_daytime = True \n",
    "if not it_is_daytime:\n",
    "    print (\"Have a nice day.\")\n",
    "else:\n",
    "    print (\"Have a nice night.\")"
   ]
  },
  {
   "cell_type": "markdown",
   "metadata": {},
   "source": [
    "* Often if/else statement use a comparison between two values to determine True or False\n",
    "* These comparisons use \"comparison operators\" such as ==, >, and <.\n",
    "* \\>= and <= can be used if you need the comparison to be inclusive.\n",
    "* **NOTE**: Two equal signs is used to compare values, while one equals sign is used to assign a value\n",
    "    * E.g.\n",
    "        \n",
    "        1 > 2 is False<br/>\n",
    "        2 > 2 is False<br/>\n",
    "        2 >= 2 is True<br/>\n",
    "        'abc' == 'abc' is True"
   ]
  },
  {
   "cell_type": "code",
   "execution_count": 86,
   "metadata": {},
   "outputs": [
    {
     "name": "stdout",
     "output_type": "stream",
     "text": [
      "False\n",
      "True\n"
     ]
    }
   ],
   "source": [
    "# Test to see if 'abc' is equal to 'cba'\n",
    "test = 'abc' == 'cba'\n",
    "print(test)\n",
    "\n",
    "# Test to see if 'abc' is not equal to 'cba' (cannot use if not here)\n",
    "test2 = 'abc' != 'cba'\n",
    "print(test2)"
   ]
  },
  {
   "cell_type": "code",
   "execution_count": 89,
   "metadata": {},
   "outputs": [
    {
     "name": "stdout",
     "output_type": "stream",
     "text": [
      "We do not know who you are.\n",
      "Ben likes to program in Python.\n"
     ]
    }
   ],
   "source": [
    "user_name = \"Ben\"\n",
    "\n",
    "if user_name == \"Marnee\": # test for username \"Manree\"\n",
    "    print (\"Marnee likes to program in Python.\")\n",
    "else:\n",
    "    print (\"We do not know who you are.\")\n",
    "\n",
    "if user_name == \"Ben\": # test for username \"Manree\"\n",
    "    print (\"Ben likes to program in Python.\")\n",
    "else:\n",
    "    print (\"We do not know who you are.\")  "
   ]
  },
  {
   "cell_type": "markdown",
   "metadata": {},
   "source": [
    "* What if a condition has more than two choices? Does it have to use a boolean?\n",
    "* Python if-statments will let you do that with elif\n",
    "* `elif` stands for \"else if\"\n",
    " "
   ]
  },
  {
   "cell_type": "code",
   "execution_count": 91,
   "metadata": {},
   "outputs": [
    {
     "name": "stdout",
     "output_type": "stream",
     "text": [
      "Brian likes plant genomes\n"
     ]
    }
   ],
   "source": [
    "user_name = \"Brian\"\n",
    "\n",
    "if user_name == \"Marnee\":\n",
    "    print (\"Marnee likes to program in Python.\")\n",
    "elif user_name == \"Ben\":\n",
    "    print (\"Ben likes maps.\")\n",
    "elif user_name == \"Brian\":\n",
    "    print (\"Brian likes plant genomes\")\n",
    "else: # this is pretty much all the other stuff\n",
    "    print (\"We do not know who you are\")\n",
    "    \n",
    "# for each possibility of user_name we have an if or else-if statment to check the value of the name\n",
    "# and print a message accordingly."
   ]
  },
  {
   "cell_type": "markdown",
   "metadata": {},
   "source": [
    "What does the following statement print?\n",
    "\n",
    "    my_num = 42\n",
    "    my_num = 8 + my_num\n",
    "    new_num = my_num / 2\n",
    "    if new_num >= 30:\n",
    "        print(\"Greater than thirty\")\n",
    "    elif my_num == 25:\n",
    "        print(\"Equals 25\")\n",
    "    elif new_num <= 30:\n",
    "        print(\"Less than thirty\")\n",
    "    else:\n",
    "        print(\"Unknown\")"
   ]
  },
  {
   "cell_type": "code",
   "execution_count": 96,
   "metadata": {},
   "outputs": [
    {
     "name": "stdout",
     "output_type": "stream",
     "text": [
      "50\n",
      "25.0\n",
      "Equals 25\n"
     ]
    }
   ],
   "source": [
    "# define your variables\n",
    "my_num = 42\n",
    "my_num = 8 + my_num # this is 50\n",
    "new_num = my_num / 2 # this is 25\n",
    "print(my_num)\n",
    "print(new_num)\n",
    "\n",
    "\n",
    "# if elif else statements \n",
    "# python is evaluating them in liner order in which we type them in\n",
    "# so when it finds something true, python stops evaluating the rest\n",
    "if new_num >= 30:\n",
    "    print(\"Greater than thirty\")\n",
    "elif my_num == 25: # elif is else if\n",
    "    print(\"Equals 25\")\n",
    "elif new_num <= 30:\n",
    "    print(\"Less than thirty\")\n",
    "else:\n",
    "    print(\"Unknown\")\n",
    "# this comes out as 25 because we are testing the wrong variable, i.e. my_num rather than new_num\n",
    "# if you change the my_num to new_num, this gives the expected results "
   ]
  },
  {
   "cell_type": "code",
   "execution_count": null,
   "metadata": {},
   "outputs": [],
   "source": [
    "# let's change this to test only for new_num\n",
    "# define your variables\n",
    "my_num = 42\n",
    "my_num = 8 + my_num # this is 50\n",
    "new_num = my_num / 2 # this is 25\n",
    "\n",
    "# if elif else statements \n",
    "my_num = 17\n",
    "my_num = 8 + my_num # this is 25\n",
    "new_num = my_num / 2 # this is 12.5\n",
    "\n",
    "if new_num >= 30:\n",
    "    print(\"Greater than thirty\")\n",
    "elif new_num == 25: # elif is else if\n",
    "    print(\"Equals 25\")\n",
    "elif new_num <= 30:\n",
    "    print(\"Less than thirty\")\n",
    "else:\n",
    "    print(\"Unknown\")"
   ]
  },
  {
   "cell_type": "markdown",
   "metadata": {},
   "source": [
    "---\n",
    "## EXERCISE:\n",
    "* 1. Check to see if you have more than three entries in the `zoo` dictionary you created earlier. If you do, print \"more than three\".  If you don't, print \"less than three\"\n",
    "\n",
    "---"
   ]
  },
  {
   "cell_type": "code",
   "execution_count": 103,
   "metadata": {},
   "outputs": [
    {
     "name": "stdout",
     "output_type": "stream",
     "text": [
      "my dictionary of zoo is {'giraffa': 1, 'tiger': 2, 'penguin': 3}\n",
      "Less than three\n",
      "Equal to three\n"
     ]
    }
   ],
   "source": [
    "# zoo dictionary \n",
    "dictionary_of_zoo = {'giraffa': 1, 'tiger' : 2, 'penguin' : 3}\n",
    "print('my dictionary of zoo is', dictionary_of_zoo)\n",
    "#print('the value of the second animal in the dictionary is', dictionary_of_zoo['tiger'])\n",
    "\n",
    "# problem 1: test if I have more than three entities in my dictionary\n",
    "# print 'more than three' if I have more than three entities\n",
    "if len(dictionary_of_zoo) > 3: # I need to add len here, because len is a function that access dictionary\n",
    "    print(\"More than three\")\n",
    "else:\n",
    "    print(\"Less than three\")\n",
    "\n",
    "# another way to do this\n",
    "test = len(dictionary_of_zoo) > 3\n",
    "print(len(dictionary_of_zoo))\n",
    "print(test)\n",
    "if test > 3:\n",
    "     print(\"More than three\")\n",
    "else:\n",
    "    print(\"Less than three\")\n",
    "\n",
    "    \n",
    "# problem 2: test how many entities I have in my dictionary \n",
    "if len(dictionary_of_zoo) > 3: # I need to add len here, because len is a function that access dictionary\n",
    "    print(\"More than three\")\n",
    "elif len(dictionary_of_zoo) ==3:\n",
    "    print(\"Equal to three\")\n",
    "else:\n",
    "    print(\"Less than three\")\n",
    "    \n",
    "# another solution to problem 1\n",
    "size_dictionary_of_zoo = "
   ]
  },
  {
   "cell_type": "code",
   "execution_count": null,
   "metadata": {},
   "outputs": [],
   "source": [
    "### Loops\n",
    "Loops tell a program to do the same thing over and over again until a certain condition is met.  \n",
    "In python two main loop types are for loops and while loops."
   ]
  },
  {
   "cell_type": "markdown",
   "metadata": {},
   "source": [
    "#### For Loops\n",
    "We can loop over collections of things like lists or dictionaries or we can create a looping structure."
   ]
  },
  {
   "cell_type": "code",
   "execution_count": 104,
   "metadata": {},
   "outputs": [
    {
     "name": "stdout",
     "output_type": "stream",
     "text": [
      "apple\n",
      "banana\n",
      "mango\n",
      ">>looping>>\n",
      "apple\n",
      "banana\n",
      "mango\n"
     ]
    }
   ],
   "source": [
    "# LOOPING over a collection\n",
    "# LIST\n",
    "\n",
    "# If I want to print a list of fruits, I could write out each print statment like this:\n",
    "print(\"apple\")\n",
    "print(\"banana\")\n",
    "print(\"mango\")\n",
    "\n",
    "# or I could create a list of fruit\n",
    "# loop over the list\n",
    "# and print each item in the list\n",
    "list_of_fruit = [\"apple\", \"banana\", \"mango\"]\n",
    "\n",
    "# this is how we write the loop\n",
    "# \"fruit\" here is a variable that will hold each item in the list, the fruit, as we loop\n",
    "# over the items in the list\n",
    "print (\">>looping>>\")\n",
    "for fruit in list_of_fruit:\n",
    "    print (fruit)"
   ]
  },
  {
   "cell_type": "code",
   "execution_count": 110,
   "metadata": {},
   "outputs": [
    {
     "name": "stdout",
     "output_type": "stream",
     "text": [
      "0\n",
      "1\n",
      "2\n",
      "3\n",
      "4\n",
      "5\n",
      "6\n",
      "7\n",
      "8\n",
      "9\n"
     ]
    }
   ],
   "source": [
    "# LOOPING a set number of times\n",
    "# We can do this with range \n",
    "# range automatically creates a list of numbers in a range\n",
    "# here we have a list of 10 numbers starting with 0 and increasing by one until we have 10 numbers\n",
    "# What will be printed\n",
    "range_test = range(0,10)\n",
    "print(type(range_test))\n",
    "print(range_test)\n",
    "\n",
    "for x in range(0,10):\n",
    "    print (x)"
   ]
  },
  {
   "cell_type": "code",
   "execution_count": 112,
   "metadata": {},
   "outputs": [
    {
     "name": "stdout",
     "output_type": "stream",
     "text": [
      "apple price is 0.1\n",
      "banana price is 0.5\n",
      "mango price is 0.75\n"
     ]
    },
    {
     "ename": "TypeError",
     "evalue": "'dict' object is not callable",
     "output_type": "error",
     "traceback": [
      "\u001b[1;31m---------------------------------------------------------------------------\u001b[0m",
      "\u001b[1;31mTypeError\u001b[0m                                 Traceback (most recent call last)",
      "\u001b[1;32m<ipython-input-112-8e26b3899c5e>\u001b[0m in \u001b[0;36m<module>\u001b[1;34m\u001b[0m\n\u001b[0;32m     11\u001b[0m \u001b[1;33m\u001b[0m\u001b[0m\n\u001b[0;32m     12\u001b[0m \u001b[0mfruit_price\u001b[0m \u001b[1;33m=\u001b[0m \u001b[1;33m{\u001b[0m\u001b[1;34m\"apple\"\u001b[0m \u001b[1;33m:\u001b[0m \u001b[1;36m0.10\u001b[0m\u001b[1;33m,\u001b[0m \u001b[1;34m\"banana\"\u001b[0m \u001b[1;33m:\u001b[0m \u001b[1;36m0.50\u001b[0m\u001b[1;33m,\u001b[0m \u001b[1;34m\"mango\"\u001b[0m \u001b[1;33m:\u001b[0m \u001b[1;36m0.75\u001b[0m\u001b[1;33m}\u001b[0m\u001b[1;33m\u001b[0m\u001b[1;33m\u001b[0m\u001b[0m\n\u001b[1;32m---> 13\u001b[1;33m \u001b[1;32mfor\u001b[0m \u001b[0mkey\u001b[0m\u001b[1;33m,\u001b[0m \u001b[0mvalue\u001b[0m \u001b[1;32min\u001b[0m \u001b[0mfruit_price\u001b[0m\u001b[1;33m(\u001b[0m\u001b[1;33m)\u001b[0m\u001b[1;33m:\u001b[0m\u001b[1;33m\u001b[0m\u001b[1;33m\u001b[0m\u001b[0m\n\u001b[0m\u001b[0;32m     14\u001b[0m     \u001b[0mprint\u001b[0m \u001b[1;33m(\u001b[0m\u001b[1;34m\"%s price is %s\"\u001b[0m \u001b[1;33m%\u001b[0m \u001b[1;33m(\u001b[0m\u001b[0mkey\u001b[0m\u001b[1;33m,\u001b[0m \u001b[0mvalue\u001b[0m\u001b[1;33m)\u001b[0m\u001b[1;33m)\u001b[0m \u001b[1;31m# %s is a representation of a string value\u001b[0m\u001b[1;33m\u001b[0m\u001b[1;33m\u001b[0m\u001b[0m\n",
      "\u001b[1;31mTypeError\u001b[0m: 'dict' object is not callable"
     ]
    }
   ],
   "source": [
    "# LOOPING over a collection\n",
    "# DICTIONARY\n",
    "\n",
    "# We can do the same thing with a dictionary and each association in the dictionary\n",
    "\n",
    "fruit_price = {\"apple\" : 0.10, \"banana\" : 0.50, \"mango\" : 0.75}\n",
    "for key, value in fruit_price.items(): #see explanation below on why you need the .items() here\n",
    "    print (\"%s price is %s\" % (key, value)) # %s is a representation of a string value \n",
    "    \n",
    "# there are different type of %value \n",
    "fruit_price = {\"apple\" : 0.10, \"banana\" : 0.50, \"mango\" : 0.75}\n",
    "for key, value in fruit_price.items():\n",
    "    print (\"{} price is {}\".format(key, value)) "
   ]
  },
  {
   "cell_type": "code",
   "execution_count": 115,
   "metadata": {},
   "outputs": [
    {
     "name": "stdout",
     "output_type": "stream",
     "text": [
      "{'apple': 0.1, 'banana': 0.5, 'mango': 0.75}\n",
      "dict_items([('aardvark', 22), ('flamingo', 6), ('panda', 2), ('gorilla', 1)])\n"
     ]
    }
   ],
   "source": [
    "# try to evaluate the fruit_price \n",
    "print(fruit_price)\n",
    "fruit_price.items()\n",
    "print(zoo.items())\n",
    "\n",
    "# why do we nite the .items()?\n",
    "# certain data types have iterators which help the programing language decideding what to do with each of the items\n",
    "# this calls the iterator from the dictionary class, which tells the for loop how to go through the items, whereas the variable only would not do it\n",
    "# you need the items also because the dictionary has a key and a value, so we need to tell python how to reiterate over the elements in the dictionary "
   ]
  },
  {
   "cell_type": "markdown",
   "metadata": {},
   "source": [
    "---\n",
    "## EXERCISE:\n",
    "1\\. For each entry in your `zoo` dictionary, print that entry/key"
   ]
  },
  {
   "cell_type": "code",
   "execution_count": 116,
   "metadata": {},
   "outputs": [
    {
     "name": "stdout",
     "output_type": "stream",
     "text": [
      "giraffa 1\n",
      "tiger 2\n",
      "penguin 3\n"
     ]
    }
   ],
   "source": [
    "for animal, count in dictionary_of_zoo.items():\n",
    "    print(animal,count)"
   ]
  },
  {
   "cell_type": "markdown",
   "metadata": {},
   "source": [
    "2\\. For each entry in your zoo dictionary, print that value"
   ]
  },
  {
   "cell_type": "code",
   "execution_count": 121,
   "metadata": {},
   "outputs": [
    {
     "name": "stdout",
     "output_type": "stream",
     "text": [
      "1\n",
      "2\n",
      "3\n",
      "The total zoo population is: 6\n",
      "zoo population: 1\n",
      "zoo population: 2\n",
      "zoo population: 3\n",
      "Total number of mammals in zoo is 6\n"
     ]
    }
   ],
   "source": [
    "#solutions 1\n",
    "running_total = 0 \n",
    "for population in dictionary_of_zoo.values():\n",
    "    print(population)\n",
    "    running_total += population # \n",
    "print('The total zoo population is: %i' % running_total) # %i is a place holder for running_total, i is for integer\n",
    "\n",
    "# another way to do this\n",
    "running_total = 0\n",
    "for value in dictionary_of_zoo.values():\n",
    "    print (\"zoo population: {}\".format(value)) #the new format to create a place holder is {}.format(variable_name)\n",
    "    running_total = running_total + value\n",
    "print(\"Total number of mammals in zoo is {}\".format(running_total)) "
   ]
  },
  {
   "cell_type": "code",
   "execution_count": null,
   "metadata": {},
   "outputs": [],
   "source": [
    "---\n",
    "#### While Loops\n",
    "Similar to if statements, while loops use a boolean test to either continue looping or break out of the loop."
   ]
  },
  {
   "cell_type": "code",
   "execution_count": 119,
   "metadata": {},
   "outputs": [
    {
     "name": "stdout",
     "output_type": "stream",
     "text": [
      "My number 10\n",
      "Post math 9\n",
      "My number 9\n",
      "Post math 8\n",
      "My number 8\n",
      "Post math 7\n",
      "My number 7\n",
      "Post math 6\n",
      "My number 6\n",
      "Post math 5\n",
      "My number 5\n",
      "Post math 4\n",
      "My number 4\n",
      "Post math 3\n",
      "My number 3\n",
      "Post math 2\n",
      "My number 2\n",
      "Post math 1\n",
      "My number 1\n",
      "Post math 0\n"
     ]
    }
   ],
   "source": [
    "# While Loops\n",
    "my_num = 10\n",
    "\n",
    "while my_num > 0:\n",
    "    print(\"My number\", my_num)\n",
    "    my_num = my_num - 1\n",
    "    print(\"Post math\", my_num)"
   ]
  },
  {
   "cell_type": "markdown",
   "metadata": {},
   "source": [
    "NOTE:  While loops can be dangerous, because if you forget to to include an operation that modifies the variable being tested (above, we're subtracting 1 at the end of each loop), it will continue to run forever and you script will never finish."
   ]
  },
  {
   "cell_type": "markdown",
   "metadata": {
    "collapsed": true
   },
   "source": [
    "That's it.  With just these data types, structures, and logic, you can build a program\n",
    "\n",
    "Let's do that next with functions"
   ]
  },
  {
   "cell_type": "markdown",
   "metadata": {},
   "source": [
    "# -- COMMIT YOUR WORK TO GITHUB --"
   ]
  },
  {
   "cell_type": "markdown",
   "metadata": {},
   "source": [
    "# Key Points\n",
    "\n",
    "* Python is an open-source programming language that can be used to do science!\n",
    "* We store information in variables\n",
    "* There are a variety of data types and objects for storing data\n",
    "* You can do math on numeric variables, you can concatenate strings\n",
    "* There are different Python default data structures including: lists, tuples, sets and dictionaries\n",
    "* Programming uses conditional statements for flow control such as: if/else, for loops and while loops"
   ]
  }
 ],
 "metadata": {
  "anaconda-cloud": {},
  "kernelspec": {
   "display_name": "Python 3",
   "language": "python",
   "name": "python3"
  },
  "language_info": {
   "codemirror_mode": {
    "name": "ipython",
    "version": 3
   },
   "file_extension": ".py",
   "mimetype": "text/x-python",
   "name": "python",
   "nbconvert_exporter": "python",
   "pygments_lexer": "ipython3",
   "version": "3.6.8"
  }
 },
 "nbformat": 4,
 "nbformat_minor": 2
}
